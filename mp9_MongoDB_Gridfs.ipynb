{
 "cells": [
  {
   "cell_type": "markdown",
   "metadata": {},
   "source": [
    "# Mini project 9 : MongoDB에서 이미지 데이터를 관리하는 파이썬 프로그램 작성하기"
   ]
  },
  {
   "cell_type": "markdown",
   "metadata": {},
   "source": [
    "✅ 기본 기능\n",
    "\n",
    "    1. 이미지 파일을 MongoDB(GridFS)에 추가 (저장)\n",
    "    2. 저장된 이미지 목록 조회\n",
    "    3. 이미지 확인 (출력)\n",
    "    4. 저장된 이미지 다운로드\n",
    "    5. 이미지 수정 (덮어쓰기)\n",
    "    6. 이미지 삭제"
   ]
  },
  {
   "cell_type": "markdown",
   "metadata": {},
   "source": [
    "- import"
   ]
  },
  {
   "cell_type": "code",
   "execution_count": 1,
   "metadata": {},
   "outputs": [],
   "source": [
    "# ! pip install pymongo"
   ]
  },
  {
   "cell_type": "code",
   "execution_count": 2,
   "metadata": {},
   "outputs": [],
   "source": [
    "from pymongo import MongoClient\n",
    "import gridfs\n",
    "import os\n",
    "from PIL import Image\n",
    "import io"
   ]
  },
  {
   "cell_type": "markdown",
   "metadata": {},
   "source": [
    "- MongoDB 연결"
   ]
  },
  {
   "cell_type": "code",
   "execution_count": null,
   "metadata": {},
   "outputs": [],
   "source": [
    "client = MongoClient(\"mongodb://localhost:27017/\")\n",
    "db = client[\"image_database\"]\n",
    "fs = gridfs.GridFS(db)"
   ]
  },
  {
   "cell_type": "markdown",
   "metadata": {},
   "source": [
    "## 관련 함수 작성"
   ]
  },
  {
   "cell_type": "markdown",
   "metadata": {},
   "source": [
    "✅ 각 함수별 기능\n",
    "\n",
    "- save_image(file_path): 이미지 파일을 읽어서 GridFS에 저장\n",
    "- list_images(): 저장된 이미지 목록 출력\n",
    "- show_image(file_name): 저장된 이미지를 확인\n",
    "- get_image(file_name, output_path): 특정 이미지를 다운로드\n",
    "- update_image(file_name, new_file_path): 기존 이미지 삭제 후 새 이미지 저장\n",
    "- delete_image(file_name): 특정 이미지 삭제"
   ]
  },
  {
   "cell_type": "markdown",
   "metadata": {},
   "source": [
    "- 이미지 추가(저장)"
   ]
  },
  {
   "cell_type": "code",
   "execution_count": 41,
   "metadata": {},
   "outputs": [],
   "source": [
    "def save_image(file_name):\n",
    "    \"\"\"이미지를 GridFS에 저장\"\"\"\n",
    "    file_path = \"./image/\"+ file_name # 경로 고정\n",
    "    with open(file_path, \"rb\") as f:\n",
    "        file_id = fs.put(f, filename=os.path.basename(file_path))\n",
    "    print(f\"*** {file_name} 저장 완료: {file_id} ***\")"
   ]
  },
  {
   "cell_type": "markdown",
   "metadata": {},
   "source": [
    "- 이미지 목록 조회"
   ]
  },
  {
   "cell_type": "code",
   "execution_count": 25,
   "metadata": {},
   "outputs": [],
   "source": [
    "def list_images():\n",
    "    \"\"\"저장된 이미지 목록 출력\"\"\"\n",
    "    files = fs.find()\n",
    "    print(f'[ {db.name}에 저장된 이미지 목록 ] ')\n",
    "    for file in files:\n",
    "        print(f\"ID: {file._id}, 파일명: {file.filename}\")"
   ]
  },
  {
   "cell_type": "markdown",
   "metadata": {},
   "source": [
    "- 이미지 확인(출력)"
   ]
  },
  {
   "cell_type": "code",
   "execution_count": 26,
   "metadata": {},
   "outputs": [],
   "source": [
    "def show_image(file_name):\n",
    "    \"\"\"GridFS에서 이미지를 가져와 화면에 출력\"\"\"\n",
    "    file = fs.find_one({\"filename\": file_name})\n",
    "    if file:\n",
    "        image_data = file.read()\n",
    "        image = Image.open(io.BytesIO(image_data))\n",
    "        print(f\"*** {file_name} 출력 완료 ***\")\n",
    "        image.show()\n",
    "    else:\n",
    "        print(\"해당 파일을 찾을 수 없음\")"
   ]
  },
  {
   "cell_type": "markdown",
   "metadata": {},
   "source": [
    "- 다운로드"
   ]
  },
  {
   "cell_type": "code",
   "execution_count": 42,
   "metadata": {},
   "outputs": [],
   "source": [
    "def get_image(file_name, output_path):\n",
    "    \"\"\"GridFS에서 특정 이미지를 가져와 저장\"\"\"\n",
    "    file = fs.find_one({\"filename\": file_name})\n",
    "    if file:\n",
    "        with open(output_path, \"wb\") as f:\n",
    "            f.write(file.read())\n",
    "        print(f\"*** 이미지 다운로드 완료, 경로 : {output_path} ***\")\n",
    "    else:\n",
    "        print(\"해당 파일을 찾을 수 없음\")"
   ]
  },
  {
   "cell_type": "markdown",
   "metadata": {},
   "source": [
    "- 이미지 수정"
   ]
  },
  {
   "cell_type": "code",
   "execution_count": 28,
   "metadata": {},
   "outputs": [],
   "source": [
    "def update_image(file_name, new_name):\n",
    "    \"\"\"기존 이미지 삭제 후 새 이미지 저장\"\"\"\n",
    "    file = fs.find_one({\"filename\": file_name})\n",
    "    if file:\n",
    "        fs.delete(file._id)\n",
    "    else:\n",
    "        print(\"해당 파일을 찾을 수 없음\")\n",
    "        \n",
    "    file_path = \"./image/\"+ new_name\n",
    "    with open(file_path, \"rb\") as f:\n",
    "        file_id = fs.put(f, filename=os.path.basename(file_path))\n",
    "    print(f\"*** {file_name} >>>> {new_name} 업데이트 완료 ***\")"
   ]
  },
  {
   "cell_type": "markdown",
   "metadata": {},
   "source": [
    "- 이미지 삭제"
   ]
  },
  {
   "cell_type": "code",
   "execution_count": 51,
   "metadata": {},
   "outputs": [],
   "source": [
    "def delete_image(file_name):\n",
    "    \"\"\"GridFS에서 이미지 삭제\"\"\"\n",
    "    file = fs.find_one({\"filename\": file_name})\n",
    "    if file:\n",
    "        fs.delete(file._id)\n",
    "        print(f\"*** {file_name} 이미지 삭제 완료 ***\")\n",
    "    else:\n",
    "        print(\"해당 파일을 찾을 수 없음\")"
   ]
  },
  {
   "cell_type": "markdown",
   "metadata": {},
   "source": [
    "## 테스트 코드"
   ]
  },
  {
   "cell_type": "code",
   "execution_count": 60,
   "metadata": {},
   "outputs": [
    {
     "name": "stdout",
     "output_type": "stream",
     "text": [
      "\n",
      "\n",
      "\n",
      "-------------------------------------------------------------------------------------------------------------- \n",
      "[ 1: 이미지 추가, 2: 이미지 목록 확인, 3: 이미지 출력, 4: 이미지 다운로드, 5: 이미지 수정, 6: 이미지 삭제, 0: 종료 ] \n",
      "-------------------------------------------------------------------------------------------------------------- \n",
      "\n",
      "1: 이미지 추가 >>> DB에 저장할 이미지 파일명을 입력하세요.\n",
      "\n",
      "*** 하츄핑.jfif 저장 완료: 67ad7ce360ae4f9bff179ba6 ***\n",
      "\n",
      "\n",
      "\n",
      "-------------------------------------------------------------------------------------------------------------- \n",
      "[ 1: 이미지 추가, 2: 이미지 목록 확인, 3: 이미지 출력, 4: 이미지 다운로드, 5: 이미지 수정, 6: 이미지 삭제, 0: 종료 ] \n",
      "-------------------------------------------------------------------------------------------------------------- \n",
      "\n",
      "2: 이미지 목록 확인 >>> 저장된 이미지 목록을 확인하세요.\n",
      "\n",
      "[ image_database에 저장된 이미지 목록 ] \n",
      "ID: 67ad7ab860ae4f9bff179ba4, 파일명: 바로핑.jfif\n",
      "ID: 67ad7ce360ae4f9bff179ba6, 파일명: 하츄핑.jfif\n",
      "\n",
      "\n",
      "\n",
      "-------------------------------------------------------------------------------------------------------------- \n",
      "[ 1: 이미지 추가, 2: 이미지 목록 확인, 3: 이미지 출력, 4: 이미지 다운로드, 5: 이미지 수정, 6: 이미지 삭제, 0: 종료 ] \n",
      "-------------------------------------------------------------------------------------------------------------- \n",
      "\n",
      "3: 이미지 출력 >>> 출력할 이미지를 선택하세요.\n",
      "\n",
      "[ image_database에 저장된 이미지 목록 ] \n",
      "ID: 67ad7ab860ae4f9bff179ba4, 파일명: 바로핑.jfif\n",
      "ID: 67ad7ce360ae4f9bff179ba6, 파일명: 하츄핑.jfif\n",
      "\n",
      "\n",
      "*** 바로핑.jfif 출력 완료 ***\n",
      "\n",
      "\n",
      "\n",
      "-------------------------------------------------------------------------------------------------------------- \n",
      "[ 1: 이미지 추가, 2: 이미지 목록 확인, 3: 이미지 출력, 4: 이미지 다운로드, 5: 이미지 수정, 6: 이미지 삭제, 0: 종료 ] \n",
      "-------------------------------------------------------------------------------------------------------------- \n",
      "\n",
      "4: 이미지 다운로드 >>> 저장할 이미지를 선택 후 경로와 이름을 설정하세요.\n",
      "\n",
      "[ image_database에 저장된 이미지 목록 ] \n",
      "ID: 67ad7ab860ae4f9bff179ba4, 파일명: 바로핑.jfif\n",
      "ID: 67ad7ce360ae4f9bff179ba6, 파일명: 하츄핑.jfif\n",
      "\n",
      "\n",
      "*** 이미지 다운로드 완료, 경로 : ./save_image/baroping.jfif ***\n",
      "\n",
      "\n",
      "\n",
      "-------------------------------------------------------------------------------------------------------------- \n",
      "[ 1: 이미지 추가, 2: 이미지 목록 확인, 3: 이미지 출력, 4: 이미지 다운로드, 5: 이미지 수정, 6: 이미지 삭제, 0: 종료 ] \n",
      "-------------------------------------------------------------------------------------------------------------- \n",
      "\n",
      "5: 이미지 수정 >>> 수정할 파일 이름과 새로운 이미지 파일명을 입력하세요.\n",
      "\n",
      "[ image_database에 저장된 이미지 목록 ] \n",
      "ID: 67ad7ab860ae4f9bff179ba4, 파일명: 바로핑.jfif\n",
      "ID: 67ad7ce360ae4f9bff179ba6, 파일명: 하츄핑.jfif\n",
      "\n",
      "\n",
      "*** 바로핑.jfif >>>> 똑똑핑.jfif 업데이트 완료 ***\n",
      "\n",
      "\n",
      "[ image_database에 저장된 이미지 목록 ] \n",
      "ID: 67ad7ce360ae4f9bff179ba6, 파일명: 하츄핑.jfif\n",
      "ID: 67ad7d2d60ae4f9bff179ba8, 파일명: 똑똑핑.jfif\n",
      "\n",
      "\n",
      "\n",
      "-------------------------------------------------------------------------------------------------------------- \n",
      "[ 1: 이미지 추가, 2: 이미지 목록 확인, 3: 이미지 출력, 4: 이미지 다운로드, 5: 이미지 수정, 6: 이미지 삭제, 0: 종료 ] \n",
      "-------------------------------------------------------------------------------------------------------------- \n",
      "\n",
      "6: 이미지 삭제 >>> 삭제할 파일 이름을 선택하세요.\n",
      "\n",
      "[ image_database에 저장된 이미지 목록 ] \n",
      "ID: 67ad7ce360ae4f9bff179ba6, 파일명: 하츄핑.jfif\n",
      "ID: 67ad7d2d60ae4f9bff179ba8, 파일명: 똑똑핑.jfif\n",
      "\n",
      "\n",
      "*** 하츄핑.jfif 이미지 삭제 완료 ***\n",
      "\n",
      "\n",
      "[ image_database에 저장된 이미지 목록 ] \n",
      "ID: 67ad7d2d60ae4f9bff179ba8, 파일명: 똑똑핑.jfif\n",
      "\n",
      "\n",
      "\n",
      "-------------------------------------------------------------------------------------------------------------- \n",
      "[ 1: 이미지 추가, 2: 이미지 목록 확인, 3: 이미지 출력, 4: 이미지 다운로드, 5: 이미지 수정, 6: 이미지 삭제, 0: 종료 ] \n",
      "-------------------------------------------------------------------------------------------------------------- \n",
      "\n",
      "잘못된 입력\n",
      "\n",
      "\n",
      "\n",
      "-------------------------------------------------------------------------------------------------------------- \n",
      "[ 1: 이미지 추가, 2: 이미지 목록 확인, 3: 이미지 출력, 4: 이미지 다운로드, 5: 이미지 수정, 6: 이미지 삭제, 0: 종료 ] \n",
      "-------------------------------------------------------------------------------------------------------------- \n",
      "\n",
      "프로그램이 종료되었습니다!\n"
     ]
    }
   ],
   "source": [
    "# 테스트 코드\n",
    "if __name__ == \"__main__\":\n",
    "    while True:\n",
    "        print(\"\\n\\n\\n-------------------------------------------------------------------------------------------------------------- \")\n",
    "        print(\"[ 1: 이미지 추가, 2: 이미지 목록 확인, 3: 이미지 출력, 4: 이미지 다운로드, 5: 이미지 수정, 6: 이미지 삭제, 0: 종료 ] \")\n",
    "        print(\"-------------------------------------------------------------------------------------------------------------- \\n\")\n",
    "        choice = input(\"선택: \")\n",
    "        \n",
    "        if choice == \"1\":\n",
    "            print('1: 이미지 추가 >>> DB에 저장할 이미지 파일명을 입력하세요.\\n')\n",
    "            path = input(\"저장할 이미지 파일명: \")\n",
    "            save_image(path)\n",
    "            continue\n",
    "            \n",
    "        elif choice == \"2\":\n",
    "            print('2: 이미지 목록 확인 >>> 저장된 이미지 목록을 확인하세요.\\n')\n",
    "            list_images()\n",
    "            continue\n",
    "            \n",
    "        elif choice == \"3\":\n",
    "            print('3: 이미지 출력 >>> 출력할 이미지를 선택하세요.\\n')\n",
    "            list_images()\n",
    "            print('\\n')\n",
    "            name = input(\"출력할 파일 이름: \")\n",
    "            show_image(name)\n",
    "            continue\n",
    "        \n",
    "        elif choice == \"4\":\n",
    "            print('4: 이미지 다운로드 >>> 저장할 이미지를 선택 후 경로와 이름을 설정하세요.\\n')\n",
    "            list_images()\n",
    "            print('\\n')\n",
    "            name = input(\"가져올 파일 이름: \")\n",
    "            output = input(\"저장할 이미지 경로: \")\n",
    "            new_name = input(\"저장할 이미지 이름: \")\n",
    "            get_image(name, output+new_name)\n",
    "            continue\n",
    "        \n",
    "        elif choice == \"5\":\n",
    "            print('5: 이미지 수정 >>> 수정할 파일 이름과 새로운 이미지 파일명을 입력하세요.\\n')\n",
    "            list_images()\n",
    "            print('\\n')\n",
    "            name = input(\"수정할 파일 이름: \")\n",
    "            new_name = input(\"새로운 이미지 이름: \")\n",
    "            update_image(name, new_name)\n",
    "            print('\\n')\n",
    "            list_images()\n",
    "            continue\n",
    "        \n",
    "        elif choice == \"6\":\n",
    "            print('6: 이미지 삭제 >>> 삭제할 파일 이름을 선택하세요.\\n')\n",
    "            list_images()\n",
    "            print('\\n')\n",
    "            name = input(\"삭제할 파일 이름: \")\n",
    "            delete_image(name)\n",
    "            print('\\n')\n",
    "            list_images()\n",
    "            continue\n",
    "            \n",
    "        elif choice == \"0\":\n",
    "            print(\"프로그램이 종료되었습니다!\")\n",
    "            break\n",
    "        \n",
    "        else:\n",
    "            print(\"잘못된 입력\")"
   ]
  },
  {
   "cell_type": "code",
   "execution_count": null,
   "metadata": {},
   "outputs": [],
   "source": []
  }
 ],
 "metadata": {
  "kernelspec": {
   "display_name": "base",
   "language": "python",
   "name": "python3"
  },
  "language_info": {
   "codemirror_mode": {
    "name": "ipython",
    "version": 3
   },
   "file_extension": ".py",
   "mimetype": "text/x-python",
   "name": "python",
   "nbconvert_exporter": "python",
   "pygments_lexer": "ipython3",
   "version": "3.12.7"
  }
 },
 "nbformat": 4,
 "nbformat_minor": 2
}
